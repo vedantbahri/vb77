{
 "cells": [
  {
   "cell_type": "code",
   "execution_count": null,
   "id": "40e873fe",
   "metadata": {},
   "outputs": [],
   "source": []
  },
  {
   "cell_type": "code",
   "execution_count": null,
   "id": "2ec275ec",
   "metadata": {},
   "outputs": [],
   "source": []
  },
  {
   "cell_type": "code",
   "execution_count": null,
   "id": "5b5fa6be",
   "metadata": {},
   "outputs": [],
   "source": []
  },
  {
   "cell_type": "code",
   "execution_count": null,
   "id": "9b8eda4a",
   "metadata": {},
   "outputs": [],
   "source": []
  },
  {
   "cell_type": "code",
   "execution_count": null,
   "id": "fec70161",
   "metadata": {},
   "outputs": [],
   "source": []
  },
  {
   "cell_type": "code",
   "execution_count": null,
   "id": "23d299bd",
   "metadata": {},
   "outputs": [],
   "source": []
  },
  {
   "cell_type": "markdown",
   "id": "c4727064",
   "metadata": {},
   "source": [
    "# DataCollection"
   ]
  },
  {
   "cell_type": "code",
   "execution_count": 1,
   "id": "4ff9a44d",
   "metadata": {},
   "outputs": [
    {
     "name": "stdout",
     "output_type": "stream",
     "text": [
      "Requirement already satisfied: gensim in /Users/vedantbahri/Desktop/anaconda3/lib/python3.11/site-packages (4.3.0)\r\n",
      "Requirement already satisfied: numpy>=1.18.5 in /Users/vedantbahri/Desktop/anaconda3/lib/python3.11/site-packages (from gensim) (1.24.3)\r\n",
      "Requirement already satisfied: scipy>=1.7.0 in /Users/vedantbahri/Desktop/anaconda3/lib/python3.11/site-packages (from gensim) (1.10.1)\r\n",
      "Requirement already satisfied: smart-open>=1.8.1 in /Users/vedantbahri/Desktop/anaconda3/lib/python3.11/site-packages (from gensim) (5.2.1)\r\n",
      "Requirement already satisfied: FuzzyTM>=0.4.0 in /Users/vedantbahri/Desktop/anaconda3/lib/python3.11/site-packages (from gensim) (2.0.5)\r\n",
      "Requirement already satisfied: pandas in /Users/vedantbahri/Desktop/anaconda3/lib/python3.11/site-packages (from FuzzyTM>=0.4.0->gensim) (1.5.3)\r\n",
      "Requirement already satisfied: pyfume in /Users/vedantbahri/Desktop/anaconda3/lib/python3.11/site-packages (from FuzzyTM>=0.4.0->gensim) (0.2.25)\r\n",
      "Requirement already satisfied: python-dateutil>=2.8.1 in /Users/vedantbahri/Desktop/anaconda3/lib/python3.11/site-packages (from pandas->FuzzyTM>=0.4.0->gensim) (2.8.2)\r\n",
      "Requirement already satisfied: pytz>=2020.1 in /Users/vedantbahri/Desktop/anaconda3/lib/python3.11/site-packages (from pandas->FuzzyTM>=0.4.0->gensim) (2022.7)\r\n",
      "Requirement already satisfied: simpful in /Users/vedantbahri/Desktop/anaconda3/lib/python3.11/site-packages (from pyfume->FuzzyTM>=0.4.0->gensim) (2.11.1)\r\n",
      "Requirement already satisfied: fst-pso in /Users/vedantbahri/Desktop/anaconda3/lib/python3.11/site-packages (from pyfume->FuzzyTM>=0.4.0->gensim) (1.8.1)\r\n",
      "Requirement already satisfied: six>=1.5 in /Users/vedantbahri/Desktop/anaconda3/lib/python3.11/site-packages (from python-dateutil>=2.8.1->pandas->FuzzyTM>=0.4.0->gensim) (1.16.0)\r\n",
      "Requirement already satisfied: miniful in /Users/vedantbahri/Desktop/anaconda3/lib/python3.11/site-packages (from fst-pso->pyfume->FuzzyTM>=0.4.0->gensim) (0.0.6)\r\n"
     ]
    }
   ],
   "source": [
    "# Install gensim\n",
    "!pip install gensim\n"
   ]
  },
  {
   "cell_type": "code",
   "execution_count": 2,
   "id": "07fbb08b",
   "metadata": {},
   "outputs": [],
   "source": [
    "# Import the necessary libraries\n",
    "from gensim.corpora import WikiCorpus\n"
   ]
  },
  {
   "cell_type": "code",
   "execution_count": 6,
   "id": "a5f9f5e4",
   "metadata": {},
   "outputs": [],
   "source": [
    "# Initialize WikiCorpus\n",
    "wiki_dump_path = '/Users/vedantbahri/Desktop/Programming 2 /enwiki-20240101-pages-articles-multistream1.xml-p1p41242.bz2'\n",
    "wiki_corpus = WikiCorpus(wiki_dump_path)\n"
   ]
  },
  {
   "cell_type": "code",
   "execution_count": 7,
   "id": "53c14d02",
   "metadata": {},
   "outputs": [],
   "source": [
    "# Function to preprocess text\n",
    "import re\n",
    "\n",
    "def preprocess_text(text):\n",
    "    # Convert to lowercase and remove non-alphabetic characters\n",
    "    return re.sub(r'[^a-z0-9 ]', '', text.lower())\n",
    "\n",
    "# Process a limited number of articles\n",
    "limit = 1000  # or however many articles you wish to process\n",
    "with open('preprocessed_articles.txt', 'w') as file:\n",
    "    for i, article in enumerate(wiki_corpus.get_texts()):\n",
    "        if i < limit:\n",
    "            article_text = ' '.join([text.decode('utf-8') if isinstance(text, bytes) else text for text in article])\n",
    "            file.write(preprocess_text(article_text) + '\\n')\n",
    "        else:\n",
    "            break\n"
   ]
  },
  {
   "cell_type": "code",
   "execution_count": null,
   "id": "996bde2a",
   "metadata": {},
   "outputs": [],
   "source": []
  },
  {
   "cell_type": "markdown",
   "id": "4b9285a1",
   "metadata": {},
   "source": [
    "# Training"
   ]
  },
  {
   "cell_type": "code",
   "execution_count": 8,
   "id": "21f03aad",
   "metadata": {},
   "outputs": [
    {
     "name": "stdout",
     "output_type": "stream",
     "text": [
      "Requirement already satisfied: gensim in /Users/vedantbahri/Desktop/anaconda3/lib/python3.11/site-packages (4.3.0)\n",
      "Requirement already satisfied: numpy>=1.18.5 in /Users/vedantbahri/Desktop/anaconda3/lib/python3.11/site-packages (from gensim) (1.24.3)\n",
      "Requirement already satisfied: scipy>=1.7.0 in /Users/vedantbahri/Desktop/anaconda3/lib/python3.11/site-packages (from gensim) (1.10.1)\n",
      "Requirement already satisfied: smart-open>=1.8.1 in /Users/vedantbahri/Desktop/anaconda3/lib/python3.11/site-packages (from gensim) (5.2.1)\n",
      "Requirement already satisfied: FuzzyTM>=0.4.0 in /Users/vedantbahri/Desktop/anaconda3/lib/python3.11/site-packages (from gensim) (2.0.5)\n",
      "Requirement already satisfied: pandas in /Users/vedantbahri/Desktop/anaconda3/lib/python3.11/site-packages (from FuzzyTM>=0.4.0->gensim) (1.5.3)\n",
      "Requirement already satisfied: pyfume in /Users/vedantbahri/Desktop/anaconda3/lib/python3.11/site-packages (from FuzzyTM>=0.4.0->gensim) (0.2.25)\n",
      "Requirement already satisfied: python-dateutil>=2.8.1 in /Users/vedantbahri/Desktop/anaconda3/lib/python3.11/site-packages (from pandas->FuzzyTM>=0.4.0->gensim) (2.8.2)\n",
      "Requirement already satisfied: pytz>=2020.1 in /Users/vedantbahri/Desktop/anaconda3/lib/python3.11/site-packages (from pandas->FuzzyTM>=0.4.0->gensim) (2022.7)\n",
      "Requirement already satisfied: simpful in /Users/vedantbahri/Desktop/anaconda3/lib/python3.11/site-packages (from pyfume->FuzzyTM>=0.4.0->gensim) (2.11.1)\n",
      "Requirement already satisfied: fst-pso in /Users/vedantbahri/Desktop/anaconda3/lib/python3.11/site-packages (from pyfume->FuzzyTM>=0.4.0->gensim) (1.8.1)\n",
      "Requirement already satisfied: six>=1.5 in /Users/vedantbahri/Desktop/anaconda3/lib/python3.11/site-packages (from python-dateutil>=2.8.1->pandas->FuzzyTM>=0.4.0->gensim) (1.16.0)\n",
      "Requirement already satisfied: miniful in /Users/vedantbahri/Desktop/anaconda3/lib/python3.11/site-packages (from fst-pso->pyfume->FuzzyTM>=0.4.0->gensim) (0.0.6)\n"
     ]
    }
   ],
   "source": [
    "!pip install gensim\n"
   ]
  },
  {
   "cell_type": "code",
   "execution_count": 9,
   "id": "1844fa54",
   "metadata": {},
   "outputs": [],
   "source": [
    "from gensim.models import Word2Vec\n",
    "from gensim.models.word2vec import LineSentence\n",
    "\n",
    "# Prepare data for Word2Vec\n",
    "sentences = LineSentence('preprocessed_articles.txt')\n",
    "\n",
    "# Train the model\n",
    "model = Word2Vec(sentences, vector_size=100, window=5, min_count=5, workers=4)\n",
    "\n",
    "# Save the trained model\n",
    "model.save(\"word2vec.model\")\n"
   ]
  },
  {
   "cell_type": "code",
   "execution_count": 10,
   "id": "e5a82bf2",
   "metadata": {},
   "outputs": [
    {
     "name": "stdout",
     "output_type": "stream",
     "text": [
      "Words similar to democracy: [('governance', 0.8376631140708923), ('socialist', 0.8310248255729675), ('politics', 0.8005566000938416), ('reform', 0.7977497577667236), ('solidarity', 0.7954553365707397), ('nationalism', 0.7885599732398987), ('liberal', 0.7883123159408569), ('customs', 0.7882505059242249), ('sovereignty', 0.7763020992279053), ('denial', 0.7742962837219238)]\n"
     ]
    }
   ],
   "source": [
    "# Load the trained model\n",
    "model = Word2Vec.load(\"word2vec.model\")\n",
    "\n",
    "# Test the model\n",
    "word = 'democracy'\n",
    "similar_words = model.wv.most_similar(word)\n",
    "print(f\"Words similar to {word}:\", similar_words)\n"
   ]
  },
  {
   "cell_type": "code",
   "execution_count": null,
   "id": "b5e36943",
   "metadata": {},
   "outputs": [],
   "source": []
  },
  {
   "cell_type": "markdown",
   "id": "351a1a22",
   "metadata": {},
   "source": [
    "# Web Application"
   ]
  },
  {
   "cell_type": "markdown",
   "id": "7766eab5",
   "metadata": {},
   "source": [
    "Check \"app.py\" file in Git repositery\n",
    "\n",
    "\n",
    "\n",
    "\n",
    "\n",
    "\n",
    "\n",
    "\n"
   ]
  }
 ],
 "metadata": {
  "kernelspec": {
   "display_name": "Python 3 (ipykernel)",
   "language": "python",
   "name": "python3"
  },
  "language_info": {
   "codemirror_mode": {
    "name": "ipython",
    "version": 3
   },
   "file_extension": ".py",
   "mimetype": "text/x-python",
   "name": "python",
   "nbconvert_exporter": "python",
   "pygments_lexer": "ipython3",
   "version": "3.11.4"
  }
 },
 "nbformat": 4,
 "nbformat_minor": 5
}
